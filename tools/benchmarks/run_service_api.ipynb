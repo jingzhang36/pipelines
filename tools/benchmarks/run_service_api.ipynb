{
 "cells": [
  {
   "cell_type": "code",
   "execution_count": 2,
   "metadata": {},
   "outputs": [
    {
     "data": {
      "image/png": "[encoded data removed]",
      "text/plain": [
       "<Figure size 432x288 with 1 Axes>"
      ]
     },
     "metadata": {
      "needs_background": "light"
     },
     "output_type": "display_data"
    }
   ],
   "source": [
    "import random\n",
    "import kfp\n",
    "import kfp_server_api\n",
    "import os\n",
    "import string\n",
    "import time\n",
    "from google.cloud import storage\n",
    "from kfp.components import create_component_from_func\n",
    "from datetime import datetime, timezone, timedelta\n",
    "\n",
    "import numpy as np\n",
    "import pandas as pd\n",
    "import seaborn as sns\n",
    "import matplotlib.pyplot as plt\n",
    "from scipy import stats\n",
    "\n",
    "# CHANGE necessary paramters here\n",
    "# host is your KFP endpoint\n",
    "host = 'http://127.0.0.1:3000'\n",
    "# Use the pipeline you prefer\n",
    "pipeline_file_url = 'https://storage.googleapis.com/jingzhangjz-project-pipelines/benchmarks/taxi.yaml'\n",
    "# number of times you want to run the pipeline\n",
    "num_runs = 10\n",
    "\n",
    "\n",
    "def random_suffix() -> string:\n",
    "    return ''.join(random.choices(string.ascii_lowercase + string.digits, k=10))\n",
    "\n",
    "\n",
    "if __name__ == '__main__':\n",
    "    client = kfp.Client(host)\n",
    "    \n",
    "    api_url = kfp_server_api.models.ApiUrl(pipeline_file_url)\n",
    "    api_pipeline = kfp_server_api.models.ApiPipeline(\n",
    "        name='pipeline-' + random_suffix(),\n",
    "        url=api_url)\n",
    "    pipeline = client.pipelines.create_pipeline(body=api_pipeline)\n",
    "    default_version_id = pipeline.default_version.id\n",
    "\n",
    "    experiment_name = 'experiment-' + random_suffix()\n",
    "    experiment = client.experiments.create_experiment(body={'name' : experiment_name})\n",
    "    experiment_id = experiment.id\n",
    "    \n",
    "    # Measure create run latency\n",
    "    create_run_latencies = []\n",
    "    for i in range(num_runs):\n",
    "        resource_references = []\n",
    "        key = kfp_server_api.models.ApiResourceKey(id=experiment_id, type=kfp_server_api.models.ApiResourceType.EXPERIMENT)\n",
    "        reference = kfp_server_api.models.ApiResourceReference(key=key, relationship=kfp_server_api.models.ApiRelationship.OWNER)\n",
    "        resource_references.append(reference)\n",
    "        key = kfp_server_api.models.ApiResourceKey(id=default_version_id, type=kfp_server_api.models.ApiResourceType.PIPELINE_VERSION)\n",
    "        reference = kfp_server_api.models.ApiResourceReference(key=key, relationship=kfp_server_api.models.ApiRelationship.CREATOR)\n",
    "        resource_references.append(reference)\n",
    "\n",
    "        start = time.perf_counter()\n",
    "        run_name = 'run-' + random_suffix()\n",
    "        run = client.runs.create_run(body={'name':run_name, 'resource_references': resource_references})  \n",
    "        dur = time.perf_counter() - start\n",
    "        create_run_latencies.append(dur)      \n",
    "\n",
    "    # Plot\n",
    "    label_create_run_latencies = pd.Series(create_run_latencies, name='Create Run Latency')\n",
    "    sns.distplot(a=label_create_run_latencies)"
   ]
  },
  {
   "cell_type": "code",
   "execution_count": null,
   "metadata": {},
   "outputs": [],
   "source": []
  }
 ],
 "metadata": {
  "file_extension": ".py",
  "kernelspec": {
   "display_name": "Python 3",
   "language": "python",
   "name": "python3"
  },
  "language_info": {
   "codemirror_mode": {
    "name": "ipython",
    "version": 3
   },
   "file_extension": ".py",
   "mimetype": "text/x-python",
   "name": "python",
   "nbconvert_exporter": "python",
   "pygments_lexer": "ipython3",
   "version": "3.7.6"
  },
  "mimetype": "text/x-python",
  "name": "python",
  "npconvert_exporter": "python",
  "pygments_lexer": "ipython3",
  "version": 3
 },
 "nbformat": 4,
 "nbformat_minor": 2
}
