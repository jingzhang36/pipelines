{
 "cells": [
  {
   "cell_type": "code",
   "execution_count": 30,
   "metadata": {},
   "outputs": [
    {
     "data": {
      "image/png": "[encoded data removed]",
      "text/plain": [
       "<Figure size 432x288 with 3 Axes>"
      ]
     },
     "metadata": {
      "needs_background": "light"
     },
     "output_type": "display_data"
    }
   ],
   "source": [
    "import random\n",
    "import kfp\n",
    "import kfp_server_api\n",
    "import os\n",
    "import string\n",
    "import time\n",
    "from datetime import datetime, timezone, timedelta\n",
    "\n",
    "import numpy as np\n",
    "import pandas as pd\n",
    "import seaborn as sns\n",
    "import matplotlib.pyplot as plt\n",
    "from scipy import stats\n",
    "\n",
    "# CHANGE necessary paramters here\n",
    "# host is your KFP endpoint\n",
    "host = 'http://127.0.0.1:3000'\n",
    "num_pipelines = 10\n",
    "# Use the pipeline you prefer\n",
    "pipeline_file_url = 'https://storage.googleapis.com/jingzhangjz-project-pipelines/benchmarks/taxi.yaml'\n",
    "\n",
    "\n",
    "def random_suffix() -> string:\n",
    "    return ''.join(random.choices(string.ascii_lowercase + string.digits, k=10))\n",
    "\n",
    "\n",
    "if __name__ == '__main__':\n",
    "    client = kfp.Client(host)\n",
    "    \n",
    "    # Create pipeline latency\n",
    "    create_latencies = []\n",
    "    created_pipeline_ids = []\n",
    "    for i in range(num_pipelines):\n",
    "        api_url = kfp_server_api.models.ApiUrl(pipeline_file_url)\n",
    "        api_pipeline = kfp_server_api.models.ApiPipeline(\n",
    "            name='pipeline-' + random_suffix(),\n",
    "            url=api_url)\n",
    "        start = time.perf_counter()\n",
    "        pipeline = client.pipelines.create_pipeline(body=api_pipeline)\n",
    "        dur = time.perf_counter() - start\n",
    "        create_latencies.append(dur)\n",
    "        created_pipeline_ids.append(pipeline.id)\n",
    "        \n",
    "    # Get pipeline latency\n",
    "    get_latencies = []\n",
    "    for i in created_pipeline_ids:\n",
    "        start = time.perf_counter()\n",
    "        pipeline = client.pipelines.get_pipeline(i)  \n",
    "        dur = time.perf_counter() - start\n",
    "        get_latencies.append(dur)      \n",
    "        \n",
    "    # Delete pipeline latency\n",
    "    delete_latencies= []\n",
    "    for i in created_pipeline_ids:\n",
    "        start = time.perf_counter()\n",
    "        pipeline = client.pipelines.delete_pipeline(i)  \n",
    "        dur = time.perf_counter() - start\n",
    "        delete_latencies.append(dur)\n",
    "\n",
    "    # Plot\n",
    "    fig, axs = plt.subplots(ncols=3)\n",
    "    label_create_latencies = pd.Series(create_latencies, name='Create Pipeline Latency')\n",
    "    sns.distplot(a=label_create_latencies, ax=axs[0])\n",
    "    label_get_latencies = pd.Series(get_latencies, name='Get Pipeline Latency')\n",
    "    sns.distplot(a=label_get_latencies, ax=axs[1])\n",
    "    label_delete_latencies = pd.Series(delete_latencies, name='Delete Pipeline Latency')\n",
    "    sns.distplot(a=label_delete_latencies, ax=axs[2])\n",
    "    \n",
    "    # TODO(jingzhang36): maybe dump the durations data to db or gcs, and let searborn read from there"
   ]
  },
  {
   "cell_type": "code",
   "execution_count": null,
   "metadata": {},
   "outputs": [],
   "source": []
  },
  {
   "cell_type": "code",
   "execution_count": null,
   "metadata": {},
   "outputs": [],
   "source": []
  }
 ],
 "metadata": {
  "file_extension": ".py",
  "kernelspec": {
   "display_name": "Python 3",
   "language": "python",
   "name": "python3"
  },
  "language_info": {
   "codemirror_mode": {
    "name": "ipython",
    "version": 3
   },
   "file_extension": ".py",
   "mimetype": "text/x-python",
   "name": "python",
   "nbconvert_exporter": "python",
   "pygments_lexer": "ipython3",
   "version": "3.7.6"
  },
  "mimetype": "text/x-python",
  "name": "python",
  "npconvert_exporter": "python",
  "pygments_lexer": "ipython3",
  "version": 3
 },
 "nbformat": 4,
 "nbformat_minor": 2
}
