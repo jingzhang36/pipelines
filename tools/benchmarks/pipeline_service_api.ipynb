{
 "cells": [
  {
   "cell_type": "code",
   "execution_count": 10,
   "metadata": {},
   "outputs": [
    {
     "data": {
      "image/png": "[encoded data removed]",
      "text/plain": [
       "<Figure size 432x288 with 2 Axes>"
      ]
     },
     "metadata": {
      "needs_background": "light"
     },
     "output_type": "display_data"
    }
   ],
   "source": [
    "import random\n",
    "import kfp\n",
    "import os\n",
    "import string\n",
    "import time\n",
    "from google.cloud import storage\n",
    "from kfp.components import create_component_from_func\n",
    "from datetime import datetime, timezone, timedelta\n",
    "\n",
    "# plot libs\n",
    "import numpy as np\n",
    "import pandas as pd\n",
    "import seaborn as sns\n",
    "import matplotlib.pyplot as plt\n",
    "from scipy import stats\n",
    "\n",
    "# change number of nodes and number of uploads here\n",
    "host = 'http://127.0.0.1:3000'\n",
    "num_nodes = 10\n",
    "num_uploads = 10\n",
    "\n",
    "file_name = 'test_' + str(num_nodes) + '_nodes.yaml'\n",
    "pipeline_name_prefix = 'pipeline_' + os.path.splitext(file_name)[0] + '_'\n",
    "bucket_name = ''\n",
    "\n",
    "\n",
    "@create_component_from_func\n",
    "def add_op(a: float, b: float) -> float:\n",
    "    return a + b\n",
    "\n",
    "\n",
    "def generated_pipeline():\n",
    "    \"\"\"Generates a pipeline with randomly connected component graph.\"\"\"\n",
    "    tasks = [add_op(3, 5)]\n",
    "    for _ in range(num_nodes):\n",
    "        a = random.choice(tasks).output\n",
    "        b = random.choice(tasks).output\n",
    "        task = add_op(a, b)\n",
    "        tasks.append(task)\n",
    "\n",
    "\n",
    "if __name__ == '__main__':\n",
    "    # Prepare pipeline file\n",
    "    kfp.compiler.Compiler().compile(generated_pipeline, file_name)\n",
    "    client = kfp.Client(host)\n",
    "    pipeline_file = os.path.join(file_name)\n",
    "\n",
    "    # Measure upload latency\n",
    "    upload_latencies = []\n",
    "    for i in range(num_uploads):\n",
    "      start = time.perf_counter()\n",
    "      pipeline = client.pipeline_uploads.upload_pipeline(pipeline_file, name=pipeline_name_prefix + ''.join(random.choices(string.ascii_lowercase + string.digits, k=10)))\n",
    "      dur = time.perf_counter() - start\n",
    "      upload_latencies.append(dur)\n",
    "        \n",
    "    # Measure upload latency\n",
    "    upload_latencies = []\n",
    "    uploaded_pipeline_ids = []\n",
    "    for i in range(num_uploads):\n",
    "      start = time.perf_counter()\n",
    "      pipeline = client.pipeline_uploads.upload_pipeline(pipeline_file, name=pipeline_name_prefix + ''.join(random.choices(string.ascii_lowercase + string.digits, k=10)))  \n",
    "      dur = time.perf_counter() - start\n",
    "      uploaded_pipeline_ids.append(pipeline.id)\n",
    "      upload_latencies.append(dur)    \n",
    "    \n",
    "    # Measure get latency\n",
    "    get_latencies = []\n",
    "    for i in uploaded_pipeline_ids:\n",
    "      start = time.perf_counter()\n",
    "      pipeline = client.pipelines.get_pipeline(i)  \n",
    "      dur = time.perf_counter() - start\n",
    "      get_latencies.append(dur)      \n",
    "\n",
    "    # Plot\n",
    "    fig, axs = plt.subplots(nrows=2)\n",
    "    sns.distplot(a=upload_latencies, ax=axs[0])\n",
    "    sns.distplot(a=get_latencies, ax=axs[1])\n",
    "    \n",
    "    # TODO(jingzhang36): maybe dump the durations data to db or gcs, and let searborn read from there"
   ]
  },
  {
   "cell_type": "code",
   "execution_count": null,
   "metadata": {},
   "outputs": [],
   "source": []
  }
 ],
 "metadata": {
  "file_extension": ".py",
  "kernelspec": {
   "display_name": "Python 3",
   "language": "python",
   "name": "python3"
  },
  "language_info": {
   "codemirror_mode": {
    "name": "ipython",
    "version": 3
   },
   "file_extension": ".py",
   "mimetype": "text/x-python",
   "name": "python",
   "nbconvert_exporter": "python",
   "pygments_lexer": "ipython3",
   "version": "3.7.6"
  },
  "mimetype": "text/x-python",
  "name": "python",
  "npconvert_exporter": "python",
  "pygments_lexer": "ipython3",
  "version": 3
 },
 "nbformat": 4,
 "nbformat_minor": 2
}
